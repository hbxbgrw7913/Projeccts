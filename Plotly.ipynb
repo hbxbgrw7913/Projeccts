{
 "cells": [
  {
   "cell_type": "markdown",
   "metadata": {},
   "source": [
    "# Einfluss der Fahrleistung im Lebenszyklus\n",
    "interaktive Grafik mit Plotly"
   ]
  },
  {
   "cell_type": "code",
   "execution_count": 84,
   "metadata": {},
   "outputs": [
    {
     "data": {
      "application/vnd.plotly.v1+json": {
       "config": {
        "plotlyServerURL": "https://plot.ly"
       },
       "data": [
        {
         "hovertemplate": "Segment und Kraftstoff=BEV-Kompakt (Strommix DE)<br>Fahrleistung=%{x}<br>CO2eq=%{y}<extra></extra>",
         "legendgroup": "BEV-Kompakt (Strommix DE)",
         "line": {
          "color": "#636efa",
          "dash": "solid"
         },
         "mode": "lines",
         "name": "BEV-Kompakt (Strommix DE)",
         "orientation": "v",
         "showlegend": true,
         "type": "scatter",
         "x": [
          0,
          10000,
          20000,
          30000,
          40000,
          50000,
          60000,
          70000,
          80000,
          90000,
          100000,
          110000,
          120000,
          130000,
          140000,
          150000,
          160000,
          170000,
          180000,
          190000,
          200000
         ],
         "xaxis": "x",
         "y": [
          10630.44756127522,
          11537.467281841205,
          12444.48700240719,
          13351.506722973176,
          14258.526443539162,
          15165.546164105148,
          16072.565884671132,
          16979.585605237116,
          17886.605325803102,
          18793.62504636909,
          19700.644766935075,
          20607.66448750106,
          21514.684208067047,
          22421.703928633033,
          23328.72364919902,
          24235.743369765,
          25142.763090330987,
          26049.782810896973,
          26956.80253146296,
          27863.822252028942,
          28770.841972594928
         ],
         "yaxis": "y"
        },
        {
         "hovertemplate": "Segment und Kraftstoff=BEV-Kompakt (Ökostrommix DE)<br>Fahrleistung=%{x}<br>CO2eq=%{y}<extra></extra>",
         "legendgroup": "BEV-Kompakt (Ökostrommix DE)",
         "line": {
          "color": "#EF553B",
          "dash": "solid"
         },
         "mode": "lines",
         "name": "BEV-Kompakt (Ökostrommix DE)",
         "orientation": "v",
         "showlegend": true,
         "type": "scatter",
         "x": [
          0,
          10000,
          20000,
          30000,
          40000,
          50000,
          60000,
          70000,
          80000,
          90000,
          100000,
          110000,
          120000,
          130000,
          140000,
          150000,
          160000,
          170000,
          180000,
          190000,
          200000
         ],
         "xaxis": "x",
         "y": [
          10630.44756127522,
          10772.284125409544,
          10914.120689543866,
          11055.957253678189,
          11197.793817812513,
          11339.630381946838,
          11481.46694608116,
          11623.303510215483,
          11765.140074349807,
          11906.976638484131,
          12048.813202618454,
          12190.649766752776,
          12332.4863308871,
          12474.322895021425,
          12616.159459155748,
          12757.99602329007,
          12899.832587424395,
          13041.669151558719,
          13183.505715693042,
          13325.342279827364,
          13467.178843961688
         ],
         "yaxis": "y"
        },
        {
         "hovertemplate": "Segment und Kraftstoff=PHEV-Kompakt (Strommix DE)<br>Fahrleistung=%{x}<br>CO2eq=%{y}<extra></extra>",
         "legendgroup": "PHEV-Kompakt (Strommix DE)",
         "line": {
          "color": "#00cc96",
          "dash": "solid"
         },
         "mode": "lines",
         "name": "PHEV-Kompakt (Strommix DE)",
         "orientation": "v",
         "showlegend": true,
         "type": "scatter",
         "x": [
          0,
          10000,
          20000,
          30000,
          40000,
          50000,
          60000,
          70000,
          80000,
          90000,
          100000,
          110000,
          120000,
          130000,
          140000,
          150000,
          160000,
          170000,
          180000,
          190000,
          200000
         ],
         "xaxis": "x",
         "y": [
          8207.786290636337,
          9136.56245089829,
          10065.338611160241,
          10994.114771422193,
          11922.890931684145,
          12851.667091946096,
          13780.44325220805,
          14709.21941247,
          15637.995572731954,
          16566.771732993904,
          17495.547893255854,
          18424.32405351781,
          19353.100213779762,
          20281.876374041713,
          21210.652534303663,
          22139.428694565617,
          23068.20485482757,
          23996.98101508952,
          24925.75717535147,
          25854.533335613425,
          26783.309495875375
         ],
         "yaxis": "y"
        },
        {
         "hovertemplate": "Segment und Kraftstoff=PHEV-Kompakt (Ökostrommix DE)<br>Fahrleistung=%{x}<br>CO2eq=%{y}<extra></extra>",
         "legendgroup": "PHEV-Kompakt (Ökostrommix DE)",
         "line": {
          "color": "#ab63fa",
          "dash": "solid"
         },
         "mode": "lines",
         "name": "PHEV-Kompakt (Ökostrommix DE)",
         "orientation": "v",
         "showlegend": true,
         "type": "scatter",
         "x": [
          0,
          10000,
          20000,
          30000,
          40000,
          50000,
          60000,
          70000,
          80000,
          90000,
          100000,
          110000,
          120000,
          130000,
          140000,
          150000,
          160000,
          170000,
          180000,
          190000,
          200000
         ],
         "xaxis": "x",
         "y": [
          8207.786290636337,
          8797.166696029406,
          9386.547101422475,
          9975.927506815546,
          10565.307912208615,
          11154.688317601684,
          11744.068722994754,
          12333.449128387823,
          12922.829533780892,
          13512.209939173961,
          14101.59034456703,
          14690.9707499601,
          15280.351155353172,
          15869.73156074624,
          16459.11196613931,
          17048.49237153238,
          17637.872776925447,
          18227.25318231852,
          18816.633587711585,
          19406.013993104658,
          19995.394398497723
         ],
         "yaxis": "y"
        },
        {
         "hovertemplate": "Segment und Kraftstoff=Benziner (Kompakt)<br>Fahrleistung=%{x}<br>CO2eq=%{y}<extra></extra>",
         "legendgroup": "Benziner (Kompakt)",
         "line": {
          "color": "#FFA15A",
          "dash": "solid"
         },
         "mode": "lines",
         "name": "Benziner (Kompakt)",
         "orientation": "v",
         "showlegend": true,
         "type": "scatter",
         "x": [
          0,
          10000,
          20000,
          30000,
          40000,
          50000,
          60000,
          70000,
          80000,
          90000,
          100000,
          110000,
          120000,
          130000,
          140000,
          150000,
          160000,
          170000,
          180000,
          190000,
          200000
         ],
         "xaxis": "x",
         "y": [
          6597.399208460647,
          8185.118955714262,
          9772.838702967876,
          11360.558450221492,
          12948.278197475105,
          14535.99794472872,
          16123.717691982336,
          17711.43743923595,
          19299.157186489567,
          20886.87693374318,
          22474.596680996794,
          24062.316428250408,
          25650.036175504025,
          27237.75592275764,
          28825.475670011252,
          30413.19541726487,
          32000.915164518483,
          33588.6349117721,
          35176.35465902572,
          36764.074406279324,
          38351.794153532945
         ],
         "yaxis": "y"
        },
        {
         "hovertemplate": "Segment und Kraftstoff=Diesel (Kompakt)<br>Fahrleistung=%{x}<br>CO2eq=%{y}<extra></extra>",
         "legendgroup": "Diesel (Kompakt)",
         "line": {
          "color": "#19d3f3",
          "dash": "solid"
         },
         "mode": "lines",
         "name": "Diesel (Kompakt)",
         "orientation": "v",
         "showlegend": true,
         "type": "scatter",
         "x": [
          0,
          10000,
          20000,
          30000,
          40000,
          50000,
          60000,
          70000,
          80000,
          90000,
          100000,
          110000,
          120000,
          130000,
          140000,
          150000,
          160000,
          170000,
          180000,
          190000,
          200000
         ],
         "xaxis": "x",
         "y": [
          6586.994320126364,
          7826.41602340317,
          9065.837726679974,
          10305.259429956779,
          11544.681133233586,
          12784.102836510388,
          14023.524539787195,
          15262.946243064001,
          16502.367946340804,
          17741.78964961761,
          18981.211352894414,
          20220.63305617122,
          21460.054759448027,
          22699.47646272483,
          23938.898166001636,
          25178.31986927844,
          26417.741572555246,
          27657.163275832052,
          28896.584979108855,
          30136.00668238566,
          31375.428385662464
         ],
         "yaxis": "y"
        }
       ],
       "layout": {
        "font": {
         "color": "#7f7f7f",
         "family": "Calibri",
         "size": 18
        },
        "legend": {
         "orientation": "h",
         "title": {
          "text": ""
         },
         "tracegroupgap": 0,
         "x": 0,
         "y": -0.2
        },
        "margin": {
         "t": 60
        },
        "template": {
         "data": {
          "bar": [
           {
            "error_x": {
             "color": "#2a3f5f"
            },
            "error_y": {
             "color": "#2a3f5f"
            },
            "marker": {
             "line": {
              "color": "#E5ECF6",
              "width": 0.5
             }
            },
            "type": "bar"
           }
          ],
          "barpolar": [
           {
            "marker": {
             "line": {
              "color": "#E5ECF6",
              "width": 0.5
             }
            },
            "type": "barpolar"
           }
          ],
          "carpet": [
           {
            "aaxis": {
             "endlinecolor": "#2a3f5f",
             "gridcolor": "white",
             "linecolor": "white",
             "minorgridcolor": "white",
             "startlinecolor": "#2a3f5f"
            },
            "baxis": {
             "endlinecolor": "#2a3f5f",
             "gridcolor": "white",
             "linecolor": "white",
             "minorgridcolor": "white",
             "startlinecolor": "#2a3f5f"
            },
            "type": "carpet"
           }
          ],
          "choropleth": [
           {
            "colorbar": {
             "outlinewidth": 0,
             "ticks": ""
            },
            "type": "choropleth"
           }
          ],
          "contour": [
           {
            "colorbar": {
             "outlinewidth": 0,
             "ticks": ""
            },
            "colorscale": [
             [
              0,
              "#0d0887"
             ],
             [
              0.1111111111111111,
              "#46039f"
             ],
             [
              0.2222222222222222,
              "#7201a8"
             ],
             [
              0.3333333333333333,
              "#9c179e"
             ],
             [
              0.4444444444444444,
              "#bd3786"
             ],
             [
              0.5555555555555556,
              "#d8576b"
             ],
             [
              0.6666666666666666,
              "#ed7953"
             ],
             [
              0.7777777777777778,
              "#fb9f3a"
             ],
             [
              0.8888888888888888,
              "#fdca26"
             ],
             [
              1,
              "#f0f921"
             ]
            ],
            "type": "contour"
           }
          ],
          "contourcarpet": [
           {
            "colorbar": {
             "outlinewidth": 0,
             "ticks": ""
            },
            "type": "contourcarpet"
           }
          ],
          "heatmap": [
           {
            "colorbar": {
             "outlinewidth": 0,
             "ticks": ""
            },
            "colorscale": [
             [
              0,
              "#0d0887"
             ],
             [
              0.1111111111111111,
              "#46039f"
             ],
             [
              0.2222222222222222,
              "#7201a8"
             ],
             [
              0.3333333333333333,
              "#9c179e"
             ],
             [
              0.4444444444444444,
              "#bd3786"
             ],
             [
              0.5555555555555556,
              "#d8576b"
             ],
             [
              0.6666666666666666,
              "#ed7953"
             ],
             [
              0.7777777777777778,
              "#fb9f3a"
             ],
             [
              0.8888888888888888,
              "#fdca26"
             ],
             [
              1,
              "#f0f921"
             ]
            ],
            "type": "heatmap"
           }
          ],
          "heatmapgl": [
           {
            "colorbar": {
             "outlinewidth": 0,
             "ticks": ""
            },
            "colorscale": [
             [
              0,
              "#0d0887"
             ],
             [
              0.1111111111111111,
              "#46039f"
             ],
             [
              0.2222222222222222,
              "#7201a8"
             ],
             [
              0.3333333333333333,
              "#9c179e"
             ],
             [
              0.4444444444444444,
              "#bd3786"
             ],
             [
              0.5555555555555556,
              "#d8576b"
             ],
             [
              0.6666666666666666,
              "#ed7953"
             ],
             [
              0.7777777777777778,
              "#fb9f3a"
             ],
             [
              0.8888888888888888,
              "#fdca26"
             ],
             [
              1,
              "#f0f921"
             ]
            ],
            "type": "heatmapgl"
           }
          ],
          "histogram": [
           {
            "marker": {
             "colorbar": {
              "outlinewidth": 0,
              "ticks": ""
             }
            },
            "type": "histogram"
           }
          ],
          "histogram2d": [
           {
            "colorbar": {
             "outlinewidth": 0,
             "ticks": ""
            },
            "colorscale": [
             [
              0,
              "#0d0887"
             ],
             [
              0.1111111111111111,
              "#46039f"
             ],
             [
              0.2222222222222222,
              "#7201a8"
             ],
             [
              0.3333333333333333,
              "#9c179e"
             ],
             [
              0.4444444444444444,
              "#bd3786"
             ],
             [
              0.5555555555555556,
              "#d8576b"
             ],
             [
              0.6666666666666666,
              "#ed7953"
             ],
             [
              0.7777777777777778,
              "#fb9f3a"
             ],
             [
              0.8888888888888888,
              "#fdca26"
             ],
             [
              1,
              "#f0f921"
             ]
            ],
            "type": "histogram2d"
           }
          ],
          "histogram2dcontour": [
           {
            "colorbar": {
             "outlinewidth": 0,
             "ticks": ""
            },
            "colorscale": [
             [
              0,
              "#0d0887"
             ],
             [
              0.1111111111111111,
              "#46039f"
             ],
             [
              0.2222222222222222,
              "#7201a8"
             ],
             [
              0.3333333333333333,
              "#9c179e"
             ],
             [
              0.4444444444444444,
              "#bd3786"
             ],
             [
              0.5555555555555556,
              "#d8576b"
             ],
             [
              0.6666666666666666,
              "#ed7953"
             ],
             [
              0.7777777777777778,
              "#fb9f3a"
             ],
             [
              0.8888888888888888,
              "#fdca26"
             ],
             [
              1,
              "#f0f921"
             ]
            ],
            "type": "histogram2dcontour"
           }
          ],
          "mesh3d": [
           {
            "colorbar": {
             "outlinewidth": 0,
             "ticks": ""
            },
            "type": "mesh3d"
           }
          ],
          "parcoords": [
           {
            "line": {
             "colorbar": {
              "outlinewidth": 0,
              "ticks": ""
             }
            },
            "type": "parcoords"
           }
          ],
          "pie": [
           {
            "automargin": true,
            "type": "pie"
           }
          ],
          "scatter": [
           {
            "marker": {
             "colorbar": {
              "outlinewidth": 0,
              "ticks": ""
             }
            },
            "type": "scatter"
           }
          ],
          "scatter3d": [
           {
            "line": {
             "colorbar": {
              "outlinewidth": 0,
              "ticks": ""
             }
            },
            "marker": {
             "colorbar": {
              "outlinewidth": 0,
              "ticks": ""
             }
            },
            "type": "scatter3d"
           }
          ],
          "scattercarpet": [
           {
            "marker": {
             "colorbar": {
              "outlinewidth": 0,
              "ticks": ""
             }
            },
            "type": "scattercarpet"
           }
          ],
          "scattergeo": [
           {
            "marker": {
             "colorbar": {
              "outlinewidth": 0,
              "ticks": ""
             }
            },
            "type": "scattergeo"
           }
          ],
          "scattergl": [
           {
            "marker": {
             "colorbar": {
              "outlinewidth": 0,
              "ticks": ""
             }
            },
            "type": "scattergl"
           }
          ],
          "scattermapbox": [
           {
            "marker": {
             "colorbar": {
              "outlinewidth": 0,
              "ticks": ""
             }
            },
            "type": "scattermapbox"
           }
          ],
          "scatterpolar": [
           {
            "marker": {
             "colorbar": {
              "outlinewidth": 0,
              "ticks": ""
             }
            },
            "type": "scatterpolar"
           }
          ],
          "scatterpolargl": [
           {
            "marker": {
             "colorbar": {
              "outlinewidth": 0,
              "ticks": ""
             }
            },
            "type": "scatterpolargl"
           }
          ],
          "scatterternary": [
           {
            "marker": {
             "colorbar": {
              "outlinewidth": 0,
              "ticks": ""
             }
            },
            "type": "scatterternary"
           }
          ],
          "surface": [
           {
            "colorbar": {
             "outlinewidth": 0,
             "ticks": ""
            },
            "colorscale": [
             [
              0,
              "#0d0887"
             ],
             [
              0.1111111111111111,
              "#46039f"
             ],
             [
              0.2222222222222222,
              "#7201a8"
             ],
             [
              0.3333333333333333,
              "#9c179e"
             ],
             [
              0.4444444444444444,
              "#bd3786"
             ],
             [
              0.5555555555555556,
              "#d8576b"
             ],
             [
              0.6666666666666666,
              "#ed7953"
             ],
             [
              0.7777777777777778,
              "#fb9f3a"
             ],
             [
              0.8888888888888888,
              "#fdca26"
             ],
             [
              1,
              "#f0f921"
             ]
            ],
            "type": "surface"
           }
          ],
          "table": [
           {
            "cells": {
             "fill": {
              "color": "#EBF0F8"
             },
             "line": {
              "color": "white"
             }
            },
            "header": {
             "fill": {
              "color": "#C8D4E3"
             },
             "line": {
              "color": "white"
             }
            },
            "type": "table"
           }
          ]
         },
         "layout": {
          "annotationdefaults": {
           "arrowcolor": "#2a3f5f",
           "arrowhead": 0,
           "arrowwidth": 1
          },
          "coloraxis": {
           "colorbar": {
            "outlinewidth": 0,
            "ticks": ""
           }
          },
          "colorscale": {
           "diverging": [
            [
             0,
             "#8e0152"
            ],
            [
             0.1,
             "#c51b7d"
            ],
            [
             0.2,
             "#de77ae"
            ],
            [
             0.3,
             "#f1b6da"
            ],
            [
             0.4,
             "#fde0ef"
            ],
            [
             0.5,
             "#f7f7f7"
            ],
            [
             0.6,
             "#e6f5d0"
            ],
            [
             0.7,
             "#b8e186"
            ],
            [
             0.8,
             "#7fbc41"
            ],
            [
             0.9,
             "#4d9221"
            ],
            [
             1,
             "#276419"
            ]
           ],
           "sequential": [
            [
             0,
             "#0d0887"
            ],
            [
             0.1111111111111111,
             "#46039f"
            ],
            [
             0.2222222222222222,
             "#7201a8"
            ],
            [
             0.3333333333333333,
             "#9c179e"
            ],
            [
             0.4444444444444444,
             "#bd3786"
            ],
            [
             0.5555555555555556,
             "#d8576b"
            ],
            [
             0.6666666666666666,
             "#ed7953"
            ],
            [
             0.7777777777777778,
             "#fb9f3a"
            ],
            [
             0.8888888888888888,
             "#fdca26"
            ],
            [
             1,
             "#f0f921"
            ]
           ],
           "sequentialminus": [
            [
             0,
             "#0d0887"
            ],
            [
             0.1111111111111111,
             "#46039f"
            ],
            [
             0.2222222222222222,
             "#7201a8"
            ],
            [
             0.3333333333333333,
             "#9c179e"
            ],
            [
             0.4444444444444444,
             "#bd3786"
            ],
            [
             0.5555555555555556,
             "#d8576b"
            ],
            [
             0.6666666666666666,
             "#ed7953"
            ],
            [
             0.7777777777777778,
             "#fb9f3a"
            ],
            [
             0.8888888888888888,
             "#fdca26"
            ],
            [
             1,
             "#f0f921"
            ]
           ]
          },
          "colorway": [
           "#636efa",
           "#EF553B",
           "#00cc96",
           "#ab63fa",
           "#FFA15A",
           "#19d3f3",
           "#FF6692",
           "#B6E880",
           "#FF97FF",
           "#FECB52"
          ],
          "font": {
           "color": "#2a3f5f"
          },
          "geo": {
           "bgcolor": "white",
           "lakecolor": "white",
           "landcolor": "#E5ECF6",
           "showlakes": true,
           "showland": true,
           "subunitcolor": "white"
          },
          "hoverlabel": {
           "align": "left"
          },
          "hovermode": "closest",
          "mapbox": {
           "style": "light"
          },
          "paper_bgcolor": "white",
          "plot_bgcolor": "#E5ECF6",
          "polar": {
           "angularaxis": {
            "gridcolor": "white",
            "linecolor": "white",
            "ticks": ""
           },
           "bgcolor": "#E5ECF6",
           "radialaxis": {
            "gridcolor": "white",
            "linecolor": "white",
            "ticks": ""
           }
          },
          "scene": {
           "xaxis": {
            "backgroundcolor": "#E5ECF6",
            "gridcolor": "white",
            "gridwidth": 2,
            "linecolor": "white",
            "showbackground": true,
            "ticks": "",
            "zerolinecolor": "white"
           },
           "yaxis": {
            "backgroundcolor": "#E5ECF6",
            "gridcolor": "white",
            "gridwidth": 2,
            "linecolor": "white",
            "showbackground": true,
            "ticks": "",
            "zerolinecolor": "white"
           },
           "zaxis": {
            "backgroundcolor": "#E5ECF6",
            "gridcolor": "white",
            "gridwidth": 2,
            "linecolor": "white",
            "showbackground": true,
            "ticks": "",
            "zerolinecolor": "white"
           }
          },
          "shapedefaults": {
           "line": {
            "color": "#2a3f5f"
           }
          },
          "ternary": {
           "aaxis": {
            "gridcolor": "white",
            "linecolor": "white",
            "ticks": ""
           },
           "baxis": {
            "gridcolor": "white",
            "linecolor": "white",
            "ticks": ""
           },
           "bgcolor": "#E5ECF6",
           "caxis": {
            "gridcolor": "white",
            "linecolor": "white",
            "ticks": ""
           }
          },
          "title": {
           "x": 0.05
          },
          "xaxis": {
           "automargin": true,
           "gridcolor": "white",
           "linecolor": "white",
           "ticks": "",
           "title": {
            "standoff": 15
           },
           "zerolinecolor": "white",
           "zerolinewidth": 2
          },
          "yaxis": {
           "automargin": true,
           "gridcolor": "white",
           "linecolor": "white",
           "ticks": "",
           "title": {
            "standoff": 15
           },
           "zerolinecolor": "white",
           "zerolinewidth": 2
          }
         }
        },
        "title": {
         "text": "Einfluss der Fahrleistung im Lebenszyklus",
         "x": 0.1,
         "y": 0.95
        },
        "xaxis": {
         "anchor": "y",
         "domain": [
          0,
          1
         ],
         "range": [
          0,
          150000
         ],
         "tickmode": "array",
         "ticktext": [
          "25.000",
          "50.000",
          "75.000",
          "100.000",
          "125.000",
          "150.000"
         ],
         "tickvals": [
          25000,
          50000,
          75000,
          100000,
          125000,
          150000
         ],
         "title": {
          "text": "Fahrleistung [km]"
         }
        },
        "yaxis": {
         "anchor": "x",
         "domain": [
          0,
          1
         ],
         "range": [
          0,
          35000
         ],
         "tickmode": "array",
         "ticktext": [
          "5.000",
          "10.000",
          "15.000",
          "20.000",
          "25.000",
          "30.000",
          "35.000"
         ],
         "tickvals": [
          5000,
          10000,
          15000,
          20000,
          25000,
          30000,
          35000
         ],
         "title": {
          "text": "kg CO<sub>2</sub>-Aquiv."
         }
        }
       }
      },
      "text/html": [
       "<div>\n",
       "        \n",
       "        \n",
       "            <div id=\"a58808e7-a096-4c31-b0ec-a0c1833f8109\" class=\"plotly-graph-div\" style=\"height:525px; width:100%;\"></div>\n",
       "            <script type=\"text/javascript\">\n",
       "                require([\"plotly\"], function(Plotly) {\n",
       "                    window.PLOTLYENV=window.PLOTLYENV || {};\n",
       "                    \n",
       "                if (document.getElementById(\"a58808e7-a096-4c31-b0ec-a0c1833f8109\")) {\n",
       "                    Plotly.newPlot(\n",
       "                        'a58808e7-a096-4c31-b0ec-a0c1833f8109',\n",
       "                        [{\"hovertemplate\": \"Segment und Kraftstoff=BEV-Kompakt (Strommix DE)<br>Fahrleistung=%{x}<br>CO2eq=%{y}<extra></extra>\", \"legendgroup\": \"BEV-Kompakt (Strommix DE)\", \"line\": {\"color\": \"#636efa\", \"dash\": \"solid\"}, \"mode\": \"lines\", \"name\": \"BEV-Kompakt (Strommix DE)\", \"orientation\": \"v\", \"showlegend\": true, \"type\": \"scatter\", \"x\": [0, 10000, 20000, 30000, 40000, 50000, 60000, 70000, 80000, 90000, 100000, 110000, 120000, 130000, 140000, 150000, 160000, 170000, 180000, 190000, 200000], \"xaxis\": \"x\", \"y\": [10630.44756127522, 11537.467281841205, 12444.48700240719, 13351.506722973176, 14258.526443539162, 15165.546164105148, 16072.565884671132, 16979.585605237116, 17886.605325803102, 18793.62504636909, 19700.644766935075, 20607.66448750106, 21514.684208067047, 22421.703928633033, 23328.72364919902, 24235.743369765, 25142.763090330987, 26049.782810896973, 26956.80253146296, 27863.822252028942, 28770.841972594928], \"yaxis\": \"y\"}, {\"hovertemplate\": \"Segment und Kraftstoff=BEV-Kompakt (\\u00d6kostrommix DE)<br>Fahrleistung=%{x}<br>CO2eq=%{y}<extra></extra>\", \"legendgroup\": \"BEV-Kompakt (\\u00d6kostrommix DE)\", \"line\": {\"color\": \"#EF553B\", \"dash\": \"solid\"}, \"mode\": \"lines\", \"name\": \"BEV-Kompakt (\\u00d6kostrommix DE)\", \"orientation\": \"v\", \"showlegend\": true, \"type\": \"scatter\", \"x\": [0, 10000, 20000, 30000, 40000, 50000, 60000, 70000, 80000, 90000, 100000, 110000, 120000, 130000, 140000, 150000, 160000, 170000, 180000, 190000, 200000], \"xaxis\": \"x\", \"y\": [10630.44756127522, 10772.284125409544, 10914.120689543866, 11055.957253678189, 11197.793817812513, 11339.630381946838, 11481.46694608116, 11623.303510215483, 11765.140074349807, 11906.976638484131, 12048.813202618454, 12190.649766752776, 12332.4863308871, 12474.322895021425, 12616.159459155748, 12757.99602329007, 12899.832587424395, 13041.669151558719, 13183.505715693042, 13325.342279827364, 13467.178843961688], \"yaxis\": \"y\"}, {\"hovertemplate\": \"Segment und Kraftstoff=PHEV-Kompakt (Strommix DE)<br>Fahrleistung=%{x}<br>CO2eq=%{y}<extra></extra>\", \"legendgroup\": \"PHEV-Kompakt (Strommix DE)\", \"line\": {\"color\": \"#00cc96\", \"dash\": \"solid\"}, \"mode\": \"lines\", \"name\": \"PHEV-Kompakt (Strommix DE)\", \"orientation\": \"v\", \"showlegend\": true, \"type\": \"scatter\", \"x\": [0, 10000, 20000, 30000, 40000, 50000, 60000, 70000, 80000, 90000, 100000, 110000, 120000, 130000, 140000, 150000, 160000, 170000, 180000, 190000, 200000], \"xaxis\": \"x\", \"y\": [8207.786290636337, 9136.56245089829, 10065.338611160241, 10994.114771422193, 11922.890931684145, 12851.667091946096, 13780.44325220805, 14709.21941247, 15637.995572731954, 16566.771732993904, 17495.547893255854, 18424.32405351781, 19353.100213779762, 20281.876374041713, 21210.652534303663, 22139.428694565617, 23068.20485482757, 23996.98101508952, 24925.75717535147, 25854.533335613425, 26783.309495875375], \"yaxis\": \"y\"}, {\"hovertemplate\": \"Segment und Kraftstoff=PHEV-Kompakt (\\u00d6kostrommix DE)<br>Fahrleistung=%{x}<br>CO2eq=%{y}<extra></extra>\", \"legendgroup\": \"PHEV-Kompakt (\\u00d6kostrommix DE)\", \"line\": {\"color\": \"#ab63fa\", \"dash\": \"solid\"}, \"mode\": \"lines\", \"name\": \"PHEV-Kompakt (\\u00d6kostrommix DE)\", \"orientation\": \"v\", \"showlegend\": true, \"type\": \"scatter\", \"x\": [0, 10000, 20000, 30000, 40000, 50000, 60000, 70000, 80000, 90000, 100000, 110000, 120000, 130000, 140000, 150000, 160000, 170000, 180000, 190000, 200000], \"xaxis\": \"x\", \"y\": [8207.786290636337, 8797.166696029406, 9386.547101422475, 9975.927506815546, 10565.307912208615, 11154.688317601684, 11744.068722994754, 12333.449128387823, 12922.829533780892, 13512.209939173961, 14101.59034456703, 14690.9707499601, 15280.351155353172, 15869.73156074624, 16459.11196613931, 17048.49237153238, 17637.872776925447, 18227.25318231852, 18816.633587711585, 19406.013993104658, 19995.394398497723], \"yaxis\": \"y\"}, {\"hovertemplate\": \"Segment und Kraftstoff=Benziner (Kompakt)<br>Fahrleistung=%{x}<br>CO2eq=%{y}<extra></extra>\", \"legendgroup\": \"Benziner (Kompakt)\", \"line\": {\"color\": \"#FFA15A\", \"dash\": \"solid\"}, \"mode\": \"lines\", \"name\": \"Benziner (Kompakt)\", \"orientation\": \"v\", \"showlegend\": true, \"type\": \"scatter\", \"x\": [0, 10000, 20000, 30000, 40000, 50000, 60000, 70000, 80000, 90000, 100000, 110000, 120000, 130000, 140000, 150000, 160000, 170000, 180000, 190000, 200000], \"xaxis\": \"x\", \"y\": [6597.399208460647, 8185.118955714262, 9772.838702967876, 11360.558450221492, 12948.278197475105, 14535.99794472872, 16123.717691982336, 17711.43743923595, 19299.157186489567, 20886.87693374318, 22474.596680996794, 24062.316428250408, 25650.036175504025, 27237.75592275764, 28825.475670011252, 30413.19541726487, 32000.915164518483, 33588.6349117721, 35176.35465902572, 36764.074406279324, 38351.794153532945], \"yaxis\": \"y\"}, {\"hovertemplate\": \"Segment und Kraftstoff=Diesel (Kompakt)<br>Fahrleistung=%{x}<br>CO2eq=%{y}<extra></extra>\", \"legendgroup\": \"Diesel (Kompakt)\", \"line\": {\"color\": \"#19d3f3\", \"dash\": \"solid\"}, \"mode\": \"lines\", \"name\": \"Diesel (Kompakt)\", \"orientation\": \"v\", \"showlegend\": true, \"type\": \"scatter\", \"x\": [0, 10000, 20000, 30000, 40000, 50000, 60000, 70000, 80000, 90000, 100000, 110000, 120000, 130000, 140000, 150000, 160000, 170000, 180000, 190000, 200000], \"xaxis\": \"x\", \"y\": [6586.994320126364, 7826.41602340317, 9065.837726679974, 10305.259429956779, 11544.681133233586, 12784.102836510388, 14023.524539787195, 15262.946243064001, 16502.367946340804, 17741.78964961761, 18981.211352894414, 20220.63305617122, 21460.054759448027, 22699.47646272483, 23938.898166001636, 25178.31986927844, 26417.741572555246, 27657.163275832052, 28896.584979108855, 30136.00668238566, 31375.428385662464], \"yaxis\": \"y\"}],\n",
       "                        {\"font\": {\"color\": \"#7f7f7f\", \"family\": \"Calibri\", \"size\": 18}, \"legend\": {\"orientation\": \"h\", \"title\": {\"text\": \"\"}, \"tracegroupgap\": 0, \"x\": 0, \"y\": -0.2}, \"margin\": {\"t\": 60}, \"template\": {\"data\": {\"bar\": [{\"error_x\": {\"color\": \"#2a3f5f\"}, \"error_y\": {\"color\": \"#2a3f5f\"}, \"marker\": {\"line\": {\"color\": \"#E5ECF6\", \"width\": 0.5}}, \"type\": \"bar\"}], \"barpolar\": [{\"marker\": {\"line\": {\"color\": \"#E5ECF6\", \"width\": 0.5}}, \"type\": \"barpolar\"}], \"carpet\": [{\"aaxis\": {\"endlinecolor\": \"#2a3f5f\", \"gridcolor\": \"white\", \"linecolor\": \"white\", \"minorgridcolor\": \"white\", \"startlinecolor\": \"#2a3f5f\"}, \"baxis\": {\"endlinecolor\": \"#2a3f5f\", \"gridcolor\": \"white\", \"linecolor\": \"white\", \"minorgridcolor\": \"white\", \"startlinecolor\": \"#2a3f5f\"}, \"type\": \"carpet\"}], \"choropleth\": [{\"colorbar\": {\"outlinewidth\": 0, \"ticks\": \"\"}, \"type\": \"choropleth\"}], \"contour\": [{\"colorbar\": {\"outlinewidth\": 0, \"ticks\": \"\"}, \"colorscale\": [[0.0, \"#0d0887\"], [0.1111111111111111, \"#46039f\"], [0.2222222222222222, \"#7201a8\"], [0.3333333333333333, \"#9c179e\"], [0.4444444444444444, \"#bd3786\"], [0.5555555555555556, \"#d8576b\"], [0.6666666666666666, \"#ed7953\"], [0.7777777777777778, \"#fb9f3a\"], [0.8888888888888888, \"#fdca26\"], [1.0, \"#f0f921\"]], \"type\": \"contour\"}], \"contourcarpet\": [{\"colorbar\": {\"outlinewidth\": 0, \"ticks\": \"\"}, \"type\": \"contourcarpet\"}], \"heatmap\": [{\"colorbar\": {\"outlinewidth\": 0, \"ticks\": \"\"}, \"colorscale\": [[0.0, \"#0d0887\"], [0.1111111111111111, \"#46039f\"], [0.2222222222222222, \"#7201a8\"], [0.3333333333333333, \"#9c179e\"], [0.4444444444444444, \"#bd3786\"], [0.5555555555555556, \"#d8576b\"], [0.6666666666666666, \"#ed7953\"], [0.7777777777777778, \"#fb9f3a\"], [0.8888888888888888, \"#fdca26\"], [1.0, \"#f0f921\"]], \"type\": \"heatmap\"}], \"heatmapgl\": [{\"colorbar\": {\"outlinewidth\": 0, \"ticks\": \"\"}, \"colorscale\": [[0.0, \"#0d0887\"], [0.1111111111111111, \"#46039f\"], [0.2222222222222222, \"#7201a8\"], [0.3333333333333333, \"#9c179e\"], [0.4444444444444444, \"#bd3786\"], [0.5555555555555556, \"#d8576b\"], [0.6666666666666666, \"#ed7953\"], [0.7777777777777778, \"#fb9f3a\"], [0.8888888888888888, \"#fdca26\"], [1.0, \"#f0f921\"]], \"type\": \"heatmapgl\"}], \"histogram\": [{\"marker\": {\"colorbar\": {\"outlinewidth\": 0, \"ticks\": \"\"}}, \"type\": \"histogram\"}], \"histogram2d\": [{\"colorbar\": {\"outlinewidth\": 0, \"ticks\": \"\"}, \"colorscale\": [[0.0, \"#0d0887\"], [0.1111111111111111, \"#46039f\"], [0.2222222222222222, \"#7201a8\"], [0.3333333333333333, \"#9c179e\"], [0.4444444444444444, \"#bd3786\"], [0.5555555555555556, \"#d8576b\"], [0.6666666666666666, \"#ed7953\"], [0.7777777777777778, \"#fb9f3a\"], [0.8888888888888888, \"#fdca26\"], [1.0, \"#f0f921\"]], \"type\": \"histogram2d\"}], \"histogram2dcontour\": [{\"colorbar\": {\"outlinewidth\": 0, \"ticks\": \"\"}, \"colorscale\": [[0.0, \"#0d0887\"], [0.1111111111111111, \"#46039f\"], [0.2222222222222222, \"#7201a8\"], [0.3333333333333333, \"#9c179e\"], [0.4444444444444444, \"#bd3786\"], [0.5555555555555556, \"#d8576b\"], [0.6666666666666666, \"#ed7953\"], [0.7777777777777778, \"#fb9f3a\"], [0.8888888888888888, \"#fdca26\"], [1.0, \"#f0f921\"]], \"type\": \"histogram2dcontour\"}], \"mesh3d\": [{\"colorbar\": {\"outlinewidth\": 0, \"ticks\": \"\"}, \"type\": \"mesh3d\"}], \"parcoords\": [{\"line\": {\"colorbar\": {\"outlinewidth\": 0, \"ticks\": \"\"}}, \"type\": \"parcoords\"}], \"pie\": [{\"automargin\": true, \"type\": \"pie\"}], \"scatter\": [{\"marker\": {\"colorbar\": {\"outlinewidth\": 0, \"ticks\": \"\"}}, \"type\": \"scatter\"}], \"scatter3d\": [{\"line\": {\"colorbar\": {\"outlinewidth\": 0, \"ticks\": \"\"}}, \"marker\": {\"colorbar\": {\"outlinewidth\": 0, \"ticks\": \"\"}}, \"type\": \"scatter3d\"}], \"scattercarpet\": [{\"marker\": {\"colorbar\": {\"outlinewidth\": 0, \"ticks\": \"\"}}, \"type\": \"scattercarpet\"}], \"scattergeo\": [{\"marker\": {\"colorbar\": {\"outlinewidth\": 0, \"ticks\": \"\"}}, \"type\": \"scattergeo\"}], \"scattergl\": [{\"marker\": {\"colorbar\": {\"outlinewidth\": 0, \"ticks\": \"\"}}, \"type\": \"scattergl\"}], \"scattermapbox\": [{\"marker\": {\"colorbar\": {\"outlinewidth\": 0, \"ticks\": \"\"}}, \"type\": \"scattermapbox\"}], \"scatterpolar\": [{\"marker\": {\"colorbar\": {\"outlinewidth\": 0, \"ticks\": \"\"}}, \"type\": \"scatterpolar\"}], \"scatterpolargl\": [{\"marker\": {\"colorbar\": {\"outlinewidth\": 0, \"ticks\": \"\"}}, \"type\": \"scatterpolargl\"}], \"scatterternary\": [{\"marker\": {\"colorbar\": {\"outlinewidth\": 0, \"ticks\": \"\"}}, \"type\": \"scatterternary\"}], \"surface\": [{\"colorbar\": {\"outlinewidth\": 0, \"ticks\": \"\"}, \"colorscale\": [[0.0, \"#0d0887\"], [0.1111111111111111, \"#46039f\"], [0.2222222222222222, \"#7201a8\"], [0.3333333333333333, \"#9c179e\"], [0.4444444444444444, \"#bd3786\"], [0.5555555555555556, \"#d8576b\"], [0.6666666666666666, \"#ed7953\"], [0.7777777777777778, \"#fb9f3a\"], [0.8888888888888888, \"#fdca26\"], [1.0, \"#f0f921\"]], \"type\": \"surface\"}], \"table\": [{\"cells\": {\"fill\": {\"color\": \"#EBF0F8\"}, \"line\": {\"color\": \"white\"}}, \"header\": {\"fill\": {\"color\": \"#C8D4E3\"}, \"line\": {\"color\": \"white\"}}, \"type\": \"table\"}]}, \"layout\": {\"annotationdefaults\": {\"arrowcolor\": \"#2a3f5f\", \"arrowhead\": 0, \"arrowwidth\": 1}, \"coloraxis\": {\"colorbar\": {\"outlinewidth\": 0, \"ticks\": \"\"}}, \"colorscale\": {\"diverging\": [[0, \"#8e0152\"], [0.1, \"#c51b7d\"], [0.2, \"#de77ae\"], [0.3, \"#f1b6da\"], [0.4, \"#fde0ef\"], [0.5, \"#f7f7f7\"], [0.6, \"#e6f5d0\"], [0.7, \"#b8e186\"], [0.8, \"#7fbc41\"], [0.9, \"#4d9221\"], [1, \"#276419\"]], \"sequential\": [[0.0, \"#0d0887\"], [0.1111111111111111, \"#46039f\"], [0.2222222222222222, \"#7201a8\"], [0.3333333333333333, \"#9c179e\"], [0.4444444444444444, \"#bd3786\"], [0.5555555555555556, \"#d8576b\"], [0.6666666666666666, \"#ed7953\"], [0.7777777777777778, \"#fb9f3a\"], [0.8888888888888888, \"#fdca26\"], [1.0, \"#f0f921\"]], \"sequentialminus\": [[0.0, \"#0d0887\"], [0.1111111111111111, \"#46039f\"], [0.2222222222222222, \"#7201a8\"], [0.3333333333333333, \"#9c179e\"], [0.4444444444444444, \"#bd3786\"], [0.5555555555555556, \"#d8576b\"], [0.6666666666666666, \"#ed7953\"], [0.7777777777777778, \"#fb9f3a\"], [0.8888888888888888, \"#fdca26\"], [1.0, \"#f0f921\"]]}, \"colorway\": [\"#636efa\", \"#EF553B\", \"#00cc96\", \"#ab63fa\", \"#FFA15A\", \"#19d3f3\", \"#FF6692\", \"#B6E880\", \"#FF97FF\", \"#FECB52\"], \"font\": {\"color\": \"#2a3f5f\"}, \"geo\": {\"bgcolor\": \"white\", \"lakecolor\": \"white\", \"landcolor\": \"#E5ECF6\", \"showlakes\": true, \"showland\": true, \"subunitcolor\": \"white\"}, \"hoverlabel\": {\"align\": \"left\"}, \"hovermode\": \"closest\", \"mapbox\": {\"style\": \"light\"}, \"paper_bgcolor\": \"white\", \"plot_bgcolor\": \"#E5ECF6\", \"polar\": {\"angularaxis\": {\"gridcolor\": \"white\", \"linecolor\": \"white\", \"ticks\": \"\"}, \"bgcolor\": \"#E5ECF6\", \"radialaxis\": {\"gridcolor\": \"white\", \"linecolor\": \"white\", \"ticks\": \"\"}}, \"scene\": {\"xaxis\": {\"backgroundcolor\": \"#E5ECF6\", \"gridcolor\": \"white\", \"gridwidth\": 2, \"linecolor\": \"white\", \"showbackground\": true, \"ticks\": \"\", \"zerolinecolor\": \"white\"}, \"yaxis\": {\"backgroundcolor\": \"#E5ECF6\", \"gridcolor\": \"white\", \"gridwidth\": 2, \"linecolor\": \"white\", \"showbackground\": true, \"ticks\": \"\", \"zerolinecolor\": \"white\"}, \"zaxis\": {\"backgroundcolor\": \"#E5ECF6\", \"gridcolor\": \"white\", \"gridwidth\": 2, \"linecolor\": \"white\", \"showbackground\": true, \"ticks\": \"\", \"zerolinecolor\": \"white\"}}, \"shapedefaults\": {\"line\": {\"color\": \"#2a3f5f\"}}, \"ternary\": {\"aaxis\": {\"gridcolor\": \"white\", \"linecolor\": \"white\", \"ticks\": \"\"}, \"baxis\": {\"gridcolor\": \"white\", \"linecolor\": \"white\", \"ticks\": \"\"}, \"bgcolor\": \"#E5ECF6\", \"caxis\": {\"gridcolor\": \"white\", \"linecolor\": \"white\", \"ticks\": \"\"}}, \"title\": {\"x\": 0.05}, \"xaxis\": {\"automargin\": true, \"gridcolor\": \"white\", \"linecolor\": \"white\", \"ticks\": \"\", \"title\": {\"standoff\": 15}, \"zerolinecolor\": \"white\", \"zerolinewidth\": 2}, \"yaxis\": {\"automargin\": true, \"gridcolor\": \"white\", \"linecolor\": \"white\", \"ticks\": \"\", \"title\": {\"standoff\": 15}, \"zerolinecolor\": \"white\", \"zerolinewidth\": 2}}}, \"title\": {\"text\": \"Einfluss der Fahrleistung im Lebenszyklus\", \"x\": 0.1, \"y\": 0.95}, \"xaxis\": {\"anchor\": \"y\", \"domain\": [0.0, 1.0], \"range\": [0, 150000], \"tickmode\": \"array\", \"ticktext\": [\"25.000\", \"50.000\", \"75.000\", \"100.000\", \"125.000\", \"150.000\"], \"tickvals\": [25000, 50000, 75000, 100000, 125000, 150000], \"title\": {\"text\": \"Fahrleistung [km]\"}}, \"yaxis\": {\"anchor\": \"x\", \"domain\": [0.0, 1.0], \"range\": [0, 35000], \"tickmode\": \"array\", \"ticktext\": [\"5.000\", \"10.000\", \"15.000\", \"20.000\", \"25.000\", \"30.000\", \"35.000\"], \"tickvals\": [5000, 10000, 15000, 20000, 25000, 30000, 35000], \"title\": {\"text\": \"kg CO<sub>2</sub>-Aquiv.\"}}},\n",
       "                        {\"responsive\": true}\n",
       "                    ).then(function(){\n",
       "                            \n",
       "var gd = document.getElementById('a58808e7-a096-4c31-b0ec-a0c1833f8109');\n",
       "var x = new MutationObserver(function (mutations, observer) {{\n",
       "        var display = window.getComputedStyle(gd).display;\n",
       "        if (!display || display === 'none') {{\n",
       "            console.log([gd, 'removed!']);\n",
       "            Plotly.purge(gd);\n",
       "            observer.disconnect();\n",
       "        }}\n",
       "}});\n",
       "\n",
       "// Listen for the removal of the full notebook cells\n",
       "var notebookContainer = gd.closest('#notebook-container');\n",
       "if (notebookContainer) {{\n",
       "    x.observe(notebookContainer, {childList: true});\n",
       "}}\n",
       "\n",
       "// Listen for the clearing of the current output cell\n",
       "var outputEl = gd.closest('.output');\n",
       "if (outputEl) {{\n",
       "    x.observe(outputEl, {childList: true});\n",
       "}}\n",
       "\n",
       "                        })\n",
       "                };\n",
       "                });\n",
       "            </script>\n",
       "        </div>"
      ]
     },
     "metadata": {},
     "output_type": "display_data"
    }
   ],
   "source": [
    "import plotly.express as px \n",
    "import pandas as pd \n",
    "import numpy as np\n",
    "\n",
    "# Daten der ehemaligen Begleitforschung\n",
    "df = pd.read_excel('C:/Users/Roman.Wolf/Documents/EinflussFahrleistungFahrzyklus.xlsx', sheet_name='Daten')\n",
    "\n",
    "# melt, damit plotly die Daten nutzen kann\n",
    "df_long=pd.melt(df, id_vars=['Fahrleistung'], value_vars=['BEV-Kompakt (Strommix DE)',\n",
    "                                                          'BEV-Kompakt (Ökostrommix DE)', 'PHEV-Kompakt (Strommix DE)',\n",
    "                                                          'PHEV-Kompakt (Ökostrommix DE)', 'Benziner (Kompakt)',\n",
    "                                                          'Diesel (Kompakt)'])\n",
    "df_long.rename(columns={'variable':'Segment und Kraftstoff','value':'CO2eq'}, inplace=True)\n",
    "\n",
    "# plotly \n",
    "fig = px.line(df_long, x='Fahrleistung', y='CO2eq', color='Segment und Kraftstoff')\n",
    "\n",
    "fig.update_layout(\n",
    "    title={'text': 'Einfluss der Fahrleistung im Lebenszyklus','y':.95,'x':0.1},\n",
    "    xaxis_title=\"Fahrleistung [km]\",\n",
    "    \n",
    "    xaxis = dict(\n",
    "        tickmode = 'array',\n",
    "        tickvals = [25000, 50000, 75000, 100000, 125000, 150000],\n",
    "        ticktext = ['25.000', '50.000', '75.000', '100.000', '125.000', '150.000']),\n",
    "    \n",
    "    yaxis_title=\"kg CO<sub>2</sub>-Aquiv.\",\n",
    "    \n",
    "    yaxis = dict(\n",
    "        tickmode = 'array',\n",
    "        tickvals = np.arange(5000,35001,5000),\n",
    "        ticktext = ['5.000', '10.000', '15.000', '20.000', '25.000', '30.000', '35.000']),\n",
    "    legend = dict(x=0, y=-.2),\n",
    "    legend_title_text='',\n",
    "    legend_orientation=\"h\",\n",
    "#     line=dict(color='royalblue', width=4),\n",
    "    font=dict(family=\"Calibri\",size=18,color=\"#7f7f7f\"))\n",
    "\n",
    "fig.update_xaxes(range=[0, 150000])\n",
    "fig.update_yaxes(range=[0, 35000])\n",
    "fig.show()"
   ]
  },
  {
   "cell_type": "markdown",
   "metadata": {},
   "source": [
    "Übersicht der Schriftarten ide in Plotly genutzt werden können"
   ]
  },
  {
   "cell_type": "code",
   "execution_count": 18,
   "metadata": {},
   "outputs": [
    {
     "data": {
      "text/plain": [
       "['@Arial Unicode MS',\n",
       " '@Batang',\n",
       " '@BatangChe',\n",
       " '@DFKai-SB',\n",
       " '@Dotum',\n",
       " '@DotumChe',\n",
       " '@FangSong',\n",
       " '@Gulim',\n",
       " '@GulimChe',\n",
       " '@Gungsuh',\n",
       " '@GungsuhChe',\n",
       " '@KaiTi',\n",
       " '@MS Gothic',\n",
       " '@MS Mincho',\n",
       " '@MS PGothic',\n",
       " '@MS PMincho',\n",
       " '@MS UI Gothic',\n",
       " '@Malgun Gothic',\n",
       " '@Meiryo',\n",
       " '@Meiryo UI',\n",
       " '@Microsoft JhengHei',\n",
       " '@Microsoft JhengHei UI',\n",
       " '@Microsoft YaHei',\n",
       " '@Microsoft YaHei UI',\n",
       " '@MingLiU',\n",
       " '@MingLiU-ExtB',\n",
       " '@MingLiU_HKSCS',\n",
       " '@MingLiU_HKSCS-ExtB',\n",
       " '@NSimSun',\n",
       " '@PMingLiU',\n",
       " '@PMingLiU-ExtB',\n",
       " '@SimHei',\n",
       " '@SimSun',\n",
       " '@SimSun-ExtB',\n",
       " 'Agency FB',\n",
       " 'Aharoni',\n",
       " 'Algerian',\n",
       " 'Andalus',\n",
       " 'Angsana New',\n",
       " 'AngsanaUPC',\n",
       " 'Aparajita',\n",
       " 'Arabic Transparent',\n",
       " 'Arabic Typesetting',\n",
       " 'Arial',\n",
       " 'Arial Baltic',\n",
       " 'Arial Black',\n",
       " 'Arial CE',\n",
       " 'Arial CYR',\n",
       " 'Arial Greek',\n",
       " 'Arial Narrow',\n",
       " 'Arial Rounded MT Bold',\n",
       " 'Arial TUR',\n",
       " 'Arial Unicode MS',\n",
       " 'Baskerville Old Face',\n",
       " 'Batang',\n",
       " 'BatangChe',\n",
       " 'Bauhaus 93',\n",
       " 'Bell MT',\n",
       " 'Berlin Sans FB',\n",
       " 'Berlin Sans FB Demi',\n",
       " 'Bernard MT Condensed',\n",
       " 'Blackadder ITC',\n",
       " 'Bodoni MT',\n",
       " 'Bodoni MT Black',\n",
       " 'Bodoni MT Condensed',\n",
       " 'Bodoni MT Poster Compressed',\n",
       " 'Book Antiqua',\n",
       " 'Bookman Old Style',\n",
       " 'Bookshelf Symbol 7',\n",
       " 'Bradley Hand ITC',\n",
       " 'Britannic Bold',\n",
       " 'Broadway',\n",
       " 'Browallia New',\n",
       " 'BrowalliaUPC',\n",
       " 'Brush Script MT',\n",
       " 'Calibri',\n",
       " 'Calibri Light',\n",
       " 'Californian FB',\n",
       " 'Calisto MT',\n",
       " 'Cambria',\n",
       " 'Cambria Math',\n",
       " 'Candara',\n",
       " 'Castellar',\n",
       " 'Centaur',\n",
       " 'Century',\n",
       " 'Century Gothic',\n",
       " 'Century Schoolbook',\n",
       " 'Chiller',\n",
       " 'Colonna MT',\n",
       " 'Comic Sans MS',\n",
       " 'Consolas',\n",
       " 'Constantia',\n",
       " 'Cooper Black',\n",
       " 'Copperplate Gothic Bold',\n",
       " 'Copperplate Gothic Light',\n",
       " 'Corbel',\n",
       " 'Cordia New',\n",
       " 'CordiaUPC',\n",
       " 'Courier',\n",
       " 'Courier New',\n",
       " 'Courier New Baltic',\n",
       " 'Courier New CE',\n",
       " 'Courier New CYR',\n",
       " 'Courier New Greek',\n",
       " 'Courier New TUR',\n",
       " 'Curlz MT',\n",
       " 'DFKai-SB',\n",
       " 'DaunPenh',\n",
       " 'David',\n",
       " 'DilleniaUPC',\n",
       " 'DokChampa',\n",
       " 'Dotum',\n",
       " 'DotumChe',\n",
       " 'Dubai',\n",
       " 'Dubai Light',\n",
       " 'Dubai Medium',\n",
       " 'Ebrima',\n",
       " 'Edwardian Script ITC',\n",
       " 'Elephant',\n",
       " 'Engravers MT',\n",
       " 'Eras Bold ITC',\n",
       " 'Eras Demi ITC',\n",
       " 'Eras Light ITC',\n",
       " 'Eras Medium ITC',\n",
       " 'Estrangelo Edessa',\n",
       " 'EucrosiaUPC',\n",
       " 'Euphemia',\n",
       " 'FangSong',\n",
       " 'Felix Titling',\n",
       " 'Fixedsys',\n",
       " 'Footlight MT Light',\n",
       " 'Forte',\n",
       " 'FrankRuehl',\n",
       " 'Franklin Gothic Book',\n",
       " 'Franklin Gothic Demi',\n",
       " 'Franklin Gothic Demi Cond',\n",
       " 'Franklin Gothic Heavy',\n",
       " 'Franklin Gothic Medium',\n",
       " 'Franklin Gothic Medium Cond',\n",
       " 'FreesiaUPC',\n",
       " 'Freestyle Script',\n",
       " 'French Script MT',\n",
       " 'Gabriola',\n",
       " 'Gadugi',\n",
       " 'Garamond',\n",
       " 'Gautami',\n",
       " 'Georgia',\n",
       " 'Gigi',\n",
       " 'Gill Sans MT',\n",
       " 'Gill Sans MT Condensed',\n",
       " 'Gill Sans MT Ext Condensed Bold',\n",
       " 'Gill Sans Ultra Bold',\n",
       " 'Gill Sans Ultra Bold Condensed',\n",
       " 'Gisha',\n",
       " 'Gloucester MT Extra Condensed',\n",
       " 'Goudy Old Style',\n",
       " 'Goudy Stout',\n",
       " 'Gulim',\n",
       " 'GulimChe',\n",
       " 'Gungsuh',\n",
       " 'GungsuhChe',\n",
       " 'Haettenschweiler',\n",
       " 'Harlow Solid Italic',\n",
       " 'Harrington',\n",
       " 'High Tower Text',\n",
       " 'Impact',\n",
       " 'Imprint MT Shadow',\n",
       " 'Informal Roman',\n",
       " 'IrisUPC',\n",
       " 'Iskoola Pota',\n",
       " 'JasmineUPC',\n",
       " 'Jokerman',\n",
       " 'Juice ITC',\n",
       " 'KaiTi',\n",
       " 'Kalinga',\n",
       " 'Kartika',\n",
       " 'Khmer UI',\n",
       " 'KodchiangUPC',\n",
       " 'Kokila',\n",
       " 'Kristen ITC',\n",
       " 'Kunstler Script',\n",
       " 'Lao UI',\n",
       " 'Latha',\n",
       " 'Leelawadee',\n",
       " 'Levenim MT',\n",
       " 'LilyUPC',\n",
       " 'Lucida Bright',\n",
       " 'Lucida Calligraphy',\n",
       " 'Lucida Console',\n",
       " 'Lucida Fax',\n",
       " 'Lucida Handwriting',\n",
       " 'Lucida Sans',\n",
       " 'Lucida Sans Typewriter',\n",
       " 'Lucida Sans Unicode',\n",
       " 'MS Gothic',\n",
       " 'MS Mincho',\n",
       " 'MS Outlook',\n",
       " 'MS PGothic',\n",
       " 'MS PMincho',\n",
       " 'MS Reference Sans Serif',\n",
       " 'MS Reference Specialty',\n",
       " 'MS Sans Serif',\n",
       " 'MS Serif',\n",
       " 'MS UI Gothic',\n",
       " 'MT Extra',\n",
       " 'MV Boli',\n",
       " 'Magneto',\n",
       " 'Maiandra GD',\n",
       " 'Malgun Gothic',\n",
       " 'Mangal',\n",
       " 'Marlett',\n",
       " 'Matura MT Script Capitals',\n",
       " 'Meiryo',\n",
       " 'Meiryo UI',\n",
       " 'Microsoft Himalaya',\n",
       " 'Microsoft JhengHei',\n",
       " 'Microsoft JhengHei UI',\n",
       " 'Microsoft New Tai Lue',\n",
       " 'Microsoft PhagsPa',\n",
       " 'Microsoft Sans Serif',\n",
       " 'Microsoft Tai Le',\n",
       " 'Microsoft Uighur',\n",
       " 'Microsoft YaHei',\n",
       " 'Microsoft YaHei UI',\n",
       " 'Microsoft Yi Baiti',\n",
       " 'MingLiU',\n",
       " 'MingLiU-ExtB',\n",
       " 'MingLiU_HKSCS',\n",
       " 'MingLiU_HKSCS-ExtB',\n",
       " 'Miriam',\n",
       " 'Miriam Fixed',\n",
       " 'Mistral',\n",
       " 'Modern',\n",
       " 'Modern No. 20',\n",
       " 'Mongolian Baiti',\n",
       " 'Monotype Corsiva',\n",
       " 'MoolBoran',\n",
       " 'NSimSun',\n",
       " 'Narkisim',\n",
       " 'Niagara Engraved',\n",
       " 'Niagara Solid',\n",
       " 'Nirmala UI',\n",
       " 'Nyala',\n",
       " 'OCR A Extended',\n",
       " 'Old English Text MT',\n",
       " 'Onyx',\n",
       " 'PMingLiU',\n",
       " 'PMingLiU-ExtB',\n",
       " 'Palace Script MT',\n",
       " 'Palatino Linotype',\n",
       " 'Papyrus',\n",
       " 'Parchment',\n",
       " 'Perpetua',\n",
       " 'Perpetua Titling MT',\n",
       " 'Plantagenet Cherokee',\n",
       " 'Playbill',\n",
       " 'Poor Richard',\n",
       " 'Pristina',\n",
       " 'Raavi',\n",
       " 'Rage Italic',\n",
       " 'Ravie',\n",
       " 'Rockwell',\n",
       " 'Rockwell Condensed',\n",
       " 'Rockwell Extra Bold',\n",
       " 'Rod',\n",
       " 'Roman',\n",
       " 'Sakkal Majalla',\n",
       " 'Script',\n",
       " 'Script MT Bold',\n",
       " 'Segoe Print',\n",
       " 'Segoe Script',\n",
       " 'Segoe UI',\n",
       " 'Segoe UI Light',\n",
       " 'Segoe UI Semibold',\n",
       " 'Segoe UI Semilight',\n",
       " 'Segoe UI Symbol',\n",
       " 'Shonar Bangla',\n",
       " 'Showcard Gothic',\n",
       " 'Shruti',\n",
       " 'SimHei',\n",
       " 'SimSun',\n",
       " 'SimSun-ExtB',\n",
       " 'Simplified Arabic',\n",
       " 'Simplified Arabic Fixed',\n",
       " 'Small Fonts',\n",
       " 'Snap ITC',\n",
       " 'Stencil',\n",
       " 'Sylfaen',\n",
       " 'Symbol',\n",
       " 'System',\n",
       " 'Tahoma',\n",
       " 'TeamViewer10Host',\n",
       " 'Tempus Sans ITC',\n",
       " 'Terminal',\n",
       " 'Times New Roman',\n",
       " 'Times New Roman Baltic',\n",
       " 'Times New Roman CE',\n",
       " 'Times New Roman CYR',\n",
       " 'Times New Roman Greek',\n",
       " 'Times New Roman TUR',\n",
       " 'Traditional Arabic',\n",
       " 'Trebuchet MS',\n",
       " 'Tunga',\n",
       " 'Tw Cen MT',\n",
       " 'Tw Cen MT Condensed',\n",
       " 'Tw Cen MT Condensed Extra Bold',\n",
       " 'Utsaah',\n",
       " 'Vani',\n",
       " 'Verdana',\n",
       " 'Vijaya',\n",
       " 'Viner Hand ITC',\n",
       " 'Vivaldi',\n",
       " 'Vladimir Script',\n",
       " 'Vrinda',\n",
       " 'Webdings',\n",
       " 'Wide Latin',\n",
       " 'Wingdings',\n",
       " 'Wingdings 2',\n",
       " 'Wingdings 3']"
      ]
     },
     "execution_count": 18,
     "metadata": {},
     "output_type": "execute_result"
    }
   ],
   "source": [
    "from tkinter import Tk, font\n",
    "root = Tk()\n",
    "sorted(font.families())"
   ]
  },
  {
   "cell_type": "code",
   "execution_count": 84,
   "metadata": {},
   "outputs": [
    {
     "ename": "ValueError",
     "evalue": "operands could not be broadcast together with shapes (18141,) (2837,) ",
     "output_type": "error",
     "traceback": [
      "\u001b[1;31m---------------------------------------------------------------------------\u001b[0m",
      "\u001b[1;31mValueError\u001b[0m                                Traceback (most recent call last)",
      "\u001b[1;32m<ipython-input-84-9ecc51652a77>\u001b[0m in \u001b[0;36m<module>\u001b[1;34m\u001b[0m\n\u001b[0;32m     15\u001b[0m \u001b[0mk\u001b[0m \u001b[1;33m=\u001b[0m \u001b[0mnp\u001b[0m\u001b[1;33m.\u001b[0m\u001b[0marange\u001b[0m\u001b[1;33m(\u001b[0m\u001b[0mdf\u001b[0m\u001b[1;33m[\u001b[0m\u001b[1;34m'Diesel (Kompakt)'\u001b[0m\u001b[1;33m]\u001b[0m\u001b[1;33m[\u001b[0m\u001b[1;36m0\u001b[0m\u001b[1;33m]\u001b[0m\u001b[1;33m,\u001b[0m \u001b[0mdf\u001b[0m\u001b[1;33m[\u001b[0m\u001b[1;34m'Diesel (Kompakt)'\u001b[0m\u001b[1;33m]\u001b[0m\u001b[1;33m.\u001b[0m\u001b[0miloc\u001b[0m\u001b[1;33m[\u001b[0m\u001b[1;33m-\u001b[0m\u001b[1;36m1\u001b[0m\u001b[1;33m]\u001b[0m\u001b[1;33m)\u001b[0m\u001b[1;33m\u001b[0m\u001b[1;33m\u001b[0m\u001b[0m\n\u001b[0;32m     16\u001b[0m \u001b[1;33m\u001b[0m\u001b[0m\n\u001b[1;32m---> 17\u001b[1;33m \u001b[0midx\u001b[0m \u001b[1;33m=\u001b[0m \u001b[0mnp\u001b[0m\u001b[1;33m.\u001b[0m\u001b[0margwhere\u001b[0m\u001b[1;33m(\u001b[0m\u001b[0mnp\u001b[0m\u001b[1;33m.\u001b[0m\u001b[0mdiff\u001b[0m\u001b[1;33m(\u001b[0m\u001b[0mnp\u001b[0m\u001b[1;33m.\u001b[0m\u001b[0msign\u001b[0m\u001b[1;33m(\u001b[0m\u001b[0mf\u001b[0m \u001b[1;33m-\u001b[0m \u001b[0mg\u001b[0m\u001b[1;33m)\u001b[0m\u001b[1;33m)\u001b[0m\u001b[1;33m)\u001b[0m\u001b[1;33m.\u001b[0m\u001b[0mflatten\u001b[0m\u001b[1;33m(\u001b[0m\u001b[1;33m)\u001b[0m\u001b[1;33m\u001b[0m\u001b[1;33m\u001b[0m\u001b[0m\n\u001b[0m",
      "\u001b[1;31mValueError\u001b[0m: operands could not be broadcast together with shapes (18141,) (2837,) "
     ]
    }
   ],
   "source": [
    "import scipy as \n",
    "df = pd.read_excel('C:/Users/Roman.Wolf/Documents/EinflussFahrleistungFahrzyklus.xlsx', sheet_name='Daten')\n",
    "df.set_index('Fahrleistung', inplace=True)\n",
    "\n",
    "df.columns\n",
    "\n",
    "clmns = ['BEV-Kompakt (Strommix DE)', 'BEV-Kompakt (Ökostrommix DE)',\n",
    "         'PHEV-Kompakt (Strommix DE)', 'PHEV-Kompakt (Ökostrommix DE)',\n",
    "         'Benziner (Kompakt)', 'Diesel (Kompakt)']\n",
    "\n",
    "f = np.arange(df['BEV-Kompakt (Strommix DE)'][0], df['BEV-Kompakt (Strommix DE)'].iloc[-1])\n",
    "g = np.arange(df['BEV-Kompakt (Ökostrommix DE)'][0], df['BEV-Kompakt (Ökostrommix DE)'].iloc[-1])\n",
    "h = np.arange(df['PHEV-Kompakt (Strommix DE)'][0], df['PHEV-Kompakt (Strommix DE)'].iloc[-1])\n",
    "i = np.arange(df['PHEV-Kompakt (Ökostrommix DE)'][0], df['PHEV-Kompakt (Ökostrommix DE)'].iloc[-1])\n",
    "j = np.arange(df['Benziner (Kompakt)'][0], df['Benziner (Kompakt)'].iloc[-1])\n",
    "k = np.arange(df['Diesel (Kompakt)'][0], df['Diesel (Kompakt)'].iloc[-1])\n",
    "\n",
    "idx = np.argwhere(np.diff(np.sign(f - g))).flatten()\n",
    "np.l"
   ]
  },
  {
   "cell_type": "code",
   "execution_count": 83,
   "metadata": {},
   "outputs": [
    {
     "ename": "NameError",
     "evalue": "name 'plotly' is not defined",
     "output_type": "error",
     "traceback": [
      "\u001b[1;31m---------------------------------------------------------------------------\u001b[0m",
      "\u001b[1;31mNameError\u001b[0m                                 Traceback (most recent call last)",
      "\u001b[1;32m<ipython-input-83-b748b257c2e7>\u001b[0m in \u001b[0;36m<module>\u001b[1;34m\u001b[0m\n\u001b[1;32m----> 1\u001b[1;33m \u001b[0mplotly\u001b[0m\u001b[1;33m.\u001b[0m\u001b[0mgraph_objs\u001b[0m\u001b[1;33m\u001b[0m\u001b[1;33m\u001b[0m\u001b[0m\n\u001b[0m",
      "\u001b[1;31mNameError\u001b[0m: name 'plotly' is not defined"
     ]
    }
   ],
   "source": []
  }
 ],
 "metadata": {
  "kernelspec": {
   "display_name": "Python 3",
   "language": "python",
   "name": "python3"
  },
  "language_info": {
   "codemirror_mode": {
    "name": "ipython",
    "version": 3
   },
   "file_extension": ".py",
   "mimetype": "text/x-python",
   "name": "python",
   "nbconvert_exporter": "python",
   "pygments_lexer": "ipython3",
   "version": "3.6.7"
  }
 },
 "nbformat": 4,
 "nbformat_minor": 4
}
